{
  "nbformat": 4,
  "nbformat_minor": 0,
  "metadata": {
    "colab": {
      "name": "Video Classifier_KK",
      "provenance": [],
      "collapsed_sections": []
    },
    "kernelspec": {
      "name": "python3",
      "display_name": "Python 3"
    }
  },
  "cells": [
    {
      "cell_type": "markdown",
      "metadata": {
        "id": "FMDNT4Q8JGQz"
      },
      "source": [
        "Install imageio for image related operations and opencv for video related operations."
      ]
    },
    {
      "cell_type": "code",
      "metadata": {
        "id": "0dMk5ulN1RtG",
        "outputId": "f2163939-b6fe-4aa9-8829-9769dfeff137",
        "colab": {
          "base_uri": "https://localhost:8080/",
          "height": 34
        }
      },
      "source": [
        "!pip install -q imageio\n",
        "!pip install -q opencv-python\n",
        "!pip install -q git+https://github.com/tensorflow/docs"
      ],
      "execution_count": 1,
      "outputs": [
        {
          "output_type": "stream",
          "text": [
            "  Building wheel for tensorflow-docs (setup.py) ... \u001b[?25l\u001b[?25hdone\n"
          ],
          "name": "stdout"
        }
      ]
    },
    {
      "cell_type": "markdown",
      "metadata": {
        "id": "pftrVBGAJbDj"
      },
      "source": [
        "Import neccessary modules "
      ]
    },
    {
      "cell_type": "code",
      "metadata": {
        "id": "t4PRQY5H1TI6"
      },
      "source": [
        "import tensorflow as tf\n",
        "import tensorflow_hub as hub\n",
        "import numpy as np\n",
        "import pandas as pd\n",
        "import imageio\n",
        "from urllib import request\n",
        "import cv2\n",
        "import os"
      ],
      "execution_count": 2,
      "outputs": []
    },
    {
      "cell_type": "markdown",
      "metadata": {
        "id": "fuaV9KUqJ80b"
      },
      "source": [
        "Loading videos' ulrs for importing and processing them to feed into pre-trained model."
      ]
    },
    {
      "cell_type": "code",
      "metadata": {
        "id": "BiPySnNCfZJs"
      },
      "source": [
        "urls_kd = []\n",
        "urls_kk = []"
      ],
      "execution_count": 3,
      "outputs": []
    },
    {
      "cell_type": "code",
      "metadata": {
        "id": "PWWhqti-1X4y"
      },
      "source": [
        "d = \"/content/drive/My Drive/unn/normal/khabaddi\"\n",
        "for path in os.listdir(d):\n",
        "  \n",
        "  full_path = os.path.join(d, path)\n",
        "  if os.path.isfile(full_path):\n",
        "    urls_kd.append(full_path)"
      ],
      "execution_count": 4,
      "outputs": []
    },
    {
      "cell_type": "code",
      "metadata": {
        "id": "615h9URO_Sh_"
      },
      "source": [
        "urls_kd"
      ],
      "execution_count": null,
      "outputs": []
    },
    {
      "cell_type": "code",
      "metadata": {
        "id": "Dx5aiC9V_EOS"
      },
      "source": [
        "d = \"/content/drive/My Drive/unn/normal/kho kho\"\n",
        "for path in os.listdir(d):\n",
        "  \n",
        "  full_path = os.path.join(d, path)\n",
        "  if os.path.isfile(full_path):\n",
        "    urls_kk.append(full_path)"
      ],
      "execution_count": 5,
      "outputs": []
    },
    {
      "cell_type": "code",
      "metadata": {
        "id": "xuauk0qZgkKI"
      },
      "source": [
        "urls_kk"
      ],
      "execution_count": null,
      "outputs": []
    },
    {
      "cell_type": "markdown",
      "metadata": {
        "id": "RAaX9pAl5Rom"
      },
      "source": [
        "Processing videos, getting images from frames using cv module"
      ]
    },
    {
      "cell_type": "code",
      "metadata": {
        "id": "yg7NqrLq142J"
      },
      "source": [
        "def load_video(path, max_frames=0, resize=(224, 224)):\n",
        "  cap = cv2.VideoCapture(path)\n",
        "  frames = []\n",
        "  try:\n",
        "    while True:\n",
        "      ret, frame = cap.read()\n",
        "      if not ret:\n",
        "        break\n",
        "      frame = cv2.resize(frame, resize)\n",
        "      frame = frame[:, :, [2, 1, 0]]\n",
        "      frames.append(frame)\n",
        "      \n",
        "      if len(frames) == max_frames:\n",
        "        break\n",
        "  finally:\n",
        "    cap.release()\n",
        "    len(frames)\n",
        "  return (np.array(frames) / 255.0)\n",
        "  "
      ],
      "execution_count": 6,
      "outputs": []
    },
    {
      "cell_type": "markdown",
      "metadata": {
        "id": "ANMrguzjKVYt"
      },
      "source": [
        "Importing labels and pretrained model from tensorflow hub"
      ]
    },
    {
      "cell_type": "code",
      "metadata": {
        "id": "sYho-xg7hxvo",
        "outputId": "be7ee044-1f18-4ab4-cbc7-22cb7745a190",
        "colab": {
          "base_uri": "https://localhost:8080/",
          "height": 34
        }
      },
      "source": [
        "# Get the kinetics-400 action labels from the GitHub repository.\n",
        "KINETICS_URL = \"https://raw.githubusercontent.com/deepmind/kinetics-i3d/master/data/label_map_600.txt\"\n",
        "with request.urlopen(KINETICS_URL) as obj:\n",
        "  labels = [line.decode(\"utf-8\").strip() for line in obj.readlines()]\n",
        "print(\"Found %d labels.\" % len(labels))"
      ],
      "execution_count": 7,
      "outputs": [
        {
          "output_type": "stream",
          "text": [
            "Found 600 labels.\n"
          ],
          "name": "stdout"
        }
      ]
    },
    {
      "cell_type": "markdown",
      "metadata": {
        "id": "FQEfsaEQ5dMx"
      },
      "source": [
        "Loading pre-trained model"
      ]
    },
    {
      "cell_type": "code",
      "metadata": {
        "id": "jHi0Y0b4h-Yn"
      },
      "source": [
        "i3d = hub.load(\"https://tfhub.dev/deepmind/i3d-kinetics-600/1\").signatures['default']"
      ],
      "execution_count": 8,
      "outputs": []
    },
    {
      "cell_type": "markdown",
      "metadata": {
        "id": "Qo4SAKHVKef9"
      },
      "source": [
        "Predicting video category as per pretrained model. Output of this model is input to the classification model."
      ]
    },
    {
      "cell_type": "code",
      "metadata": {
        "id": "OeExGAbNiH5W"
      },
      "source": [
        "def predict(sample_video):\n",
        "  # Add a batch axis to the to the sample video.\n",
        "  model_input = tf.constant(sample_video, dtype=tf.float32)[tf.newaxis, ...]\n",
        "\n",
        "  logits = i3d(model_input)['default'][0]\n",
        "  tf.nn.softmax(logits)\n",
        "  \n",
        "  return tf.nn.softmax(logits)"
      ],
      "execution_count": 11,
      "outputs": []
    },
    {
      "cell_type": "code",
      "metadata": {
        "id": "zuVDEMDtnnWS"
      },
      "source": [
        "probabilities_kd = []\n",
        "probabilities_kk = []"
      ],
      "execution_count": 12,
      "outputs": []
    },
    {
      "cell_type": "code",
      "metadata": {
        "id": "QJ0hZhXp4j1b"
      },
      "source": [
        "for i in urls_kd:\n",
        "  print(i)\n",
        "  v = []\n",
        "  v = load_video(i)\n",
        "  predict(v)\n",
        "  probabilities_kd.append(predict(v))\n",
        "  print(probabilities_kd[-1])"
      ],
      "execution_count": null,
      "outputs": []
    },
    {
      "cell_type": "code",
      "metadata": {
        "id": "aDsyB5qY_y48"
      },
      "source": [
        "for i in urls_kk:\n",
        "  print(i)\n",
        "  v = []\n",
        "  v = load_video(i)\n",
        "  predict(v)\n",
        "  probabilities_kk.append(predict(v))\n",
        "  print(probabilities_kk[-1])"
      ],
      "execution_count": null,
      "outputs": []
    },
    {
      "cell_type": "code",
      "metadata": {
        "id": "Y8ykPEZU3oQ0"
      },
      "source": [
        "probabilities_kd = np.array(probabilities_kd)\n",
        "probabilities_kk = np.array(probabilities_kk)"
      ],
      "execution_count": 15,
      "outputs": []
    },
    {
      "cell_type": "code",
      "metadata": {
        "id": "3wIC17NeqRrM",
        "outputId": "a5aaf74b-d411-4fd5-f1f6-d247a2f4627a",
        "colab": {
          "base_uri": "https://localhost:8080/",
          "height": 34
        }
      },
      "source": [
        "probabilities_kd.shape"
      ],
      "execution_count": 17,
      "outputs": [
        {
          "output_type": "execute_result",
          "data": {
            "text/plain": [
              "(17, 600)"
            ]
          },
          "metadata": {
            "tags": []
          },
          "execution_count": 17
        }
      ]
    },
    {
      "cell_type": "markdown",
      "metadata": {
        "id": "PhfKP0NKKywX"
      },
      "source": [
        "Adding labels info to the intermediatory output and converting to pandas dataframe and shuffling it to feed into classification model."
      ]
    },
    {
      "cell_type": "code",
      "metadata": {
        "id": "zmwbZgFzvMAg"
      },
      "source": [
        "z = np.zeros((17,1)) #considering khabaddi videos to be of 0-cateogory"
      ],
      "execution_count": 18,
      "outputs": []
    },
    {
      "cell_type": "code",
      "metadata": {
        "id": "64q5_o0GHyOI",
        "outputId": "41ec2183-6b60-4a63-f496-12ba2e3b5e1e",
        "colab": {
          "base_uri": "https://localhost:8080/",
          "height": 34
        }
      },
      "source": [
        "z. shape"
      ],
      "execution_count": 19,
      "outputs": [
        {
          "output_type": "execute_result",
          "data": {
            "text/plain": [
              "(17, 1)"
            ]
          },
          "metadata": {
            "tags": []
          },
          "execution_count": 19
        }
      ]
    },
    {
      "cell_type": "code",
      "metadata": {
        "id": "d4tq4OtNyAxu",
        "outputId": "1e935756-3c56-4617-84b5-73101a5725ae",
        "colab": {
          "base_uri": "https://localhost:8080/",
          "height": 34
        }
      },
      "source": [
        "pp = probabilities_kd\n",
        "pp.shape"
      ],
      "execution_count": 20,
      "outputs": [
        {
          "output_type": "execute_result",
          "data": {
            "text/plain": [
              "(17, 600)"
            ]
          },
          "metadata": {
            "tags": []
          },
          "execution_count": 20
        }
      ]
    },
    {
      "cell_type": "code",
      "metadata": {
        "id": "tPF99QW8HnH1",
        "outputId": "0f39b173-fb2b-4a87-a518-33c9318cde06",
        "colab": {
          "base_uri": "https://localhost:8080/",
          "height": 34
        }
      },
      "source": [
        "probabilities_kd = np.append(probabilities_kd, z, axis=1)\n",
        "probabilities_kd.shape"
      ],
      "execution_count": 21,
      "outputs": [
        {
          "output_type": "execute_result",
          "data": {
            "text/plain": [
              "(17, 601)"
            ]
          },
          "metadata": {
            "tags": []
          },
          "execution_count": 21
        }
      ]
    },
    {
      "cell_type": "code",
      "metadata": {
        "id": "TuwDgYW1JNNS",
        "outputId": "1985c641-64b7-4b9c-86b9-1da7ba46b933",
        "colab": {
          "base_uri": "https://localhost:8080/",
          "height": 34
        }
      },
      "source": [
        "pk = probabilities_kk\n",
        "pk.shape"
      ],
      "execution_count": 22,
      "outputs": [
        {
          "output_type": "execute_result",
          "data": {
            "text/plain": [
              "(13, 600)"
            ]
          },
          "metadata": {
            "tags": []
          },
          "execution_count": 22
        }
      ]
    },
    {
      "cell_type": "code",
      "metadata": {
        "id": "zIUv8QzvJTMe"
      },
      "source": [
        "zk = np.ones((13,1)) #considering kho kho videos to be of 1-cateogory"
      ],
      "execution_count": 127,
      "outputs": []
    },
    {
      "cell_type": "code",
      "metadata": {
        "id": "iWBP7wjXJFNe",
        "outputId": "34a60a0b-b264-4c2e-95ac-f8df0d488eb5",
        "colab": {
          "base_uri": "https://localhost:8080/",
          "height": 34
        }
      },
      "source": [
        "probabilities_kk = np.append(probabilities_kk, zk, axis=1)\n",
        "probabilities_kk.shape"
      ],
      "execution_count": 24,
      "outputs": [
        {
          "output_type": "execute_result",
          "data": {
            "text/plain": [
              "(13, 601)"
            ]
          },
          "metadata": {
            "tags": []
          },
          "execution_count": 24
        }
      ]
    },
    {
      "cell_type": "code",
      "metadata": {
        "id": "JBpBIG4MJtdM",
        "outputId": "c04186ff-4b1c-4ace-f77d-8e16f3a1a017",
        "colab": {
          "base_uri": "https://localhost:8080/",
          "height": 34
        }
      },
      "source": [
        "probs = np.concatenate((probabilities_kd, probabilities_kk), axis=0)\n",
        "probs.shape"
      ],
      "execution_count": 26,
      "outputs": [
        {
          "output_type": "execute_result",
          "data": {
            "text/plain": [
              "(30, 601)"
            ]
          },
          "metadata": {
            "tags": []
          },
          "execution_count": 26
        }
      ]
    },
    {
      "cell_type": "code",
      "metadata": {
        "id": "DPob5aq37GwC",
        "outputId": "a965242f-6dc6-4d42-d8c8-0d9ca28a0f65",
        "colab": {
          "base_uri": "https://localhost:8080/",
          "height": 338
        }
      },
      "source": [
        "df = pd.DataFrame(data=prob)\n",
        "df.tail()  #Converting to pandas dataframe to load data to model"
      ],
      "execution_count": 96,
      "outputs": [
        {
          "output_type": "execute_result",
          "data": {
            "text/html": [
              "<div>\n",
              "<style scoped>\n",
              "    .dataframe tbody tr th:only-of-type {\n",
              "        vertical-align: middle;\n",
              "    }\n",
              "\n",
              "    .dataframe tbody tr th {\n",
              "        vertical-align: top;\n",
              "    }\n",
              "\n",
              "    .dataframe thead th {\n",
              "        text-align: right;\n",
              "    }\n",
              "</style>\n",
              "<table border=\"1\" class=\"dataframe\">\n",
              "  <thead>\n",
              "    <tr style=\"text-align: right;\">\n",
              "      <th></th>\n",
              "      <th>0</th>\n",
              "      <th>1</th>\n",
              "      <th>2</th>\n",
              "      <th>3</th>\n",
              "      <th>4</th>\n",
              "      <th>5</th>\n",
              "      <th>6</th>\n",
              "      <th>7</th>\n",
              "      <th>8</th>\n",
              "      <th>9</th>\n",
              "      <th>10</th>\n",
              "      <th>11</th>\n",
              "      <th>12</th>\n",
              "      <th>13</th>\n",
              "      <th>14</th>\n",
              "      <th>15</th>\n",
              "      <th>16</th>\n",
              "      <th>17</th>\n",
              "      <th>18</th>\n",
              "      <th>19</th>\n",
              "      <th>20</th>\n",
              "      <th>21</th>\n",
              "      <th>22</th>\n",
              "      <th>23</th>\n",
              "      <th>24</th>\n",
              "      <th>25</th>\n",
              "      <th>26</th>\n",
              "      <th>27</th>\n",
              "      <th>28</th>\n",
              "      <th>29</th>\n",
              "      <th>30</th>\n",
              "      <th>31</th>\n",
              "      <th>32</th>\n",
              "      <th>33</th>\n",
              "      <th>34</th>\n",
              "      <th>35</th>\n",
              "      <th>36</th>\n",
              "      <th>37</th>\n",
              "      <th>38</th>\n",
              "      <th>39</th>\n",
              "      <th>...</th>\n",
              "      <th>561</th>\n",
              "      <th>562</th>\n",
              "      <th>563</th>\n",
              "      <th>564</th>\n",
              "      <th>565</th>\n",
              "      <th>566</th>\n",
              "      <th>567</th>\n",
              "      <th>568</th>\n",
              "      <th>569</th>\n",
              "      <th>570</th>\n",
              "      <th>571</th>\n",
              "      <th>572</th>\n",
              "      <th>573</th>\n",
              "      <th>574</th>\n",
              "      <th>575</th>\n",
              "      <th>576</th>\n",
              "      <th>577</th>\n",
              "      <th>578</th>\n",
              "      <th>579</th>\n",
              "      <th>580</th>\n",
              "      <th>581</th>\n",
              "      <th>582</th>\n",
              "      <th>583</th>\n",
              "      <th>584</th>\n",
              "      <th>585</th>\n",
              "      <th>586</th>\n",
              "      <th>587</th>\n",
              "      <th>588</th>\n",
              "      <th>589</th>\n",
              "      <th>590</th>\n",
              "      <th>591</th>\n",
              "      <th>592</th>\n",
              "      <th>593</th>\n",
              "      <th>594</th>\n",
              "      <th>595</th>\n",
              "      <th>596</th>\n",
              "      <th>597</th>\n",
              "      <th>598</th>\n",
              "      <th>599</th>\n",
              "      <th>600</th>\n",
              "    </tr>\n",
              "  </thead>\n",
              "  <tbody>\n",
              "    <tr>\n",
              "      <th>25</th>\n",
              "      <td>7.725971e-05</td>\n",
              "      <td>0.000033</td>\n",
              "      <td>2.595261e-07</td>\n",
              "      <td>8.162342e-06</td>\n",
              "      <td>3.526550e-07</td>\n",
              "      <td>4.953244e-05</td>\n",
              "      <td>1.393781e-04</td>\n",
              "      <td>0.000028</td>\n",
              "      <td>2.117869e-07</td>\n",
              "      <td>0.000111</td>\n",
              "      <td>2.453876e-06</td>\n",
              "      <td>9.535331e-06</td>\n",
              "      <td>4.906322e-08</td>\n",
              "      <td>3.575907e-07</td>\n",
              "      <td>1.148394e-07</td>\n",
              "      <td>1.709181e-04</td>\n",
              "      <td>1.517883e-07</td>\n",
              "      <td>0.000022</td>\n",
              "      <td>2.520223e-07</td>\n",
              "      <td>8.346986e-08</td>\n",
              "      <td>3.082698e-07</td>\n",
              "      <td>5.465634e-05</td>\n",
              "      <td>1.197984e-06</td>\n",
              "      <td>3.393456e-07</td>\n",
              "      <td>0.000033</td>\n",
              "      <td>1.838872e-05</td>\n",
              "      <td>1.248896e-07</td>\n",
              "      <td>1.095218e-04</td>\n",
              "      <td>3.132707e-07</td>\n",
              "      <td>0.000096</td>\n",
              "      <td>2.501920e-07</td>\n",
              "      <td>4.426642e-08</td>\n",
              "      <td>8.857810e-07</td>\n",
              "      <td>1.420389e-08</td>\n",
              "      <td>1.098550e-07</td>\n",
              "      <td>2.573577e-07</td>\n",
              "      <td>9.989686e-07</td>\n",
              "      <td>8.245372e-07</td>\n",
              "      <td>8.741645e-08</td>\n",
              "      <td>6.795821e-07</td>\n",
              "      <td>...</td>\n",
              "      <td>2.441661e-05</td>\n",
              "      <td>7.549850e-07</td>\n",
              "      <td>1.285083e-05</td>\n",
              "      <td>3.914981e-07</td>\n",
              "      <td>1.694390e-08</td>\n",
              "      <td>9.571919e-08</td>\n",
              "      <td>0.000004</td>\n",
              "      <td>4.733000e-07</td>\n",
              "      <td>1.649238e-07</td>\n",
              "      <td>2.254075e-07</td>\n",
              "      <td>1.509203e-06</td>\n",
              "      <td>3.644812e-07</td>\n",
              "      <td>3.115687e-08</td>\n",
              "      <td>3.724071e-08</td>\n",
              "      <td>1.197536e-07</td>\n",
              "      <td>6.564261e-07</td>\n",
              "      <td>1.933979e-05</td>\n",
              "      <td>4.993186e-06</td>\n",
              "      <td>4.776703e-07</td>\n",
              "      <td>8.432774e-08</td>\n",
              "      <td>7.195490e-06</td>\n",
              "      <td>1.476732e-08</td>\n",
              "      <td>1.152608e-08</td>\n",
              "      <td>6.011177e-09</td>\n",
              "      <td>4.049332e-08</td>\n",
              "      <td>2.656289e-09</td>\n",
              "      <td>5.363825e-09</td>\n",
              "      <td>1.203507e-06</td>\n",
              "      <td>1.252002e-06</td>\n",
              "      <td>3.194476e-05</td>\n",
              "      <td>1.273062e-05</td>\n",
              "      <td>1.843039e-08</td>\n",
              "      <td>9.809206e-08</td>\n",
              "      <td>0.000306</td>\n",
              "      <td>6.883828e-07</td>\n",
              "      <td>1.666949e-09</td>\n",
              "      <td>5.792581e-07</td>\n",
              "      <td>0.000213</td>\n",
              "      <td>0.052899</td>\n",
              "      <td>0.0</td>\n",
              "    </tr>\n",
              "    <tr>\n",
              "      <th>26</th>\n",
              "      <td>1.885309e-04</td>\n",
              "      <td>0.000152</td>\n",
              "      <td>1.378803e-06</td>\n",
              "      <td>1.846628e-05</td>\n",
              "      <td>1.341620e-06</td>\n",
              "      <td>1.482278e-04</td>\n",
              "      <td>2.784087e-04</td>\n",
              "      <td>0.000091</td>\n",
              "      <td>1.230250e-06</td>\n",
              "      <td>0.000199</td>\n",
              "      <td>3.632555e-06</td>\n",
              "      <td>1.644047e-05</td>\n",
              "      <td>1.655193e-07</td>\n",
              "      <td>1.295115e-06</td>\n",
              "      <td>1.840079e-07</td>\n",
              "      <td>9.309063e-04</td>\n",
              "      <td>7.464193e-07</td>\n",
              "      <td>0.000028</td>\n",
              "      <td>8.733620e-07</td>\n",
              "      <td>1.046094e-06</td>\n",
              "      <td>7.530790e-07</td>\n",
              "      <td>6.560834e-05</td>\n",
              "      <td>2.084701e-06</td>\n",
              "      <td>2.021401e-06</td>\n",
              "      <td>0.000064</td>\n",
              "      <td>4.250009e-05</td>\n",
              "      <td>3.541051e-08</td>\n",
              "      <td>2.870668e-04</td>\n",
              "      <td>5.486384e-07</td>\n",
              "      <td>0.000181</td>\n",
              "      <td>7.823579e-07</td>\n",
              "      <td>5.086818e-07</td>\n",
              "      <td>1.090756e-06</td>\n",
              "      <td>6.084000e-08</td>\n",
              "      <td>3.729373e-07</td>\n",
              "      <td>2.077686e-06</td>\n",
              "      <td>2.343930e-06</td>\n",
              "      <td>2.570716e-06</td>\n",
              "      <td>3.849793e-07</td>\n",
              "      <td>4.513779e-06</td>\n",
              "      <td>...</td>\n",
              "      <td>2.589511e-05</td>\n",
              "      <td>6.675483e-06</td>\n",
              "      <td>1.807343e-05</td>\n",
              "      <td>3.513726e-06</td>\n",
              "      <td>1.196361e-07</td>\n",
              "      <td>4.164961e-07</td>\n",
              "      <td>0.000024</td>\n",
              "      <td>8.023975e-06</td>\n",
              "      <td>9.026637e-07</td>\n",
              "      <td>1.009552e-06</td>\n",
              "      <td>1.711453e-05</td>\n",
              "      <td>3.072136e-06</td>\n",
              "      <td>1.354532e-07</td>\n",
              "      <td>2.901521e-07</td>\n",
              "      <td>6.979709e-07</td>\n",
              "      <td>1.971597e-06</td>\n",
              "      <td>2.420202e-05</td>\n",
              "      <td>9.637985e-06</td>\n",
              "      <td>6.042645e-06</td>\n",
              "      <td>2.047634e-07</td>\n",
              "      <td>1.260829e-05</td>\n",
              "      <td>1.327651e-07</td>\n",
              "      <td>5.024073e-08</td>\n",
              "      <td>2.944371e-08</td>\n",
              "      <td>1.984181e-07</td>\n",
              "      <td>1.916648e-08</td>\n",
              "      <td>4.240396e-08</td>\n",
              "      <td>2.864517e-06</td>\n",
              "      <td>2.247076e-06</td>\n",
              "      <td>1.281046e-04</td>\n",
              "      <td>4.601285e-05</td>\n",
              "      <td>6.897311e-08</td>\n",
              "      <td>7.848599e-07</td>\n",
              "      <td>0.000425</td>\n",
              "      <td>2.521528e-06</td>\n",
              "      <td>1.740839e-08</td>\n",
              "      <td>2.884530e-06</td>\n",
              "      <td>0.000329</td>\n",
              "      <td>0.060368</td>\n",
              "      <td>0.0</td>\n",
              "    </tr>\n",
              "    <tr>\n",
              "      <th>27</th>\n",
              "      <td>6.571332e-07</td>\n",
              "      <td>0.000204</td>\n",
              "      <td>2.257266e-06</td>\n",
              "      <td>2.906417e-06</td>\n",
              "      <td>2.016336e-05</td>\n",
              "      <td>1.202370e-05</td>\n",
              "      <td>4.681996e-05</td>\n",
              "      <td>0.000160</td>\n",
              "      <td>2.025838e-07</td>\n",
              "      <td>0.000108</td>\n",
              "      <td>8.806151e-06</td>\n",
              "      <td>1.585945e-05</td>\n",
              "      <td>1.601449e-07</td>\n",
              "      <td>1.110520e-06</td>\n",
              "      <td>4.931234e-07</td>\n",
              "      <td>2.154173e-05</td>\n",
              "      <td>2.117622e-06</td>\n",
              "      <td>0.001512</td>\n",
              "      <td>3.565430e-07</td>\n",
              "      <td>7.603892e-07</td>\n",
              "      <td>9.213034e-06</td>\n",
              "      <td>1.039070e-06</td>\n",
              "      <td>5.418861e-07</td>\n",
              "      <td>7.088097e-06</td>\n",
              "      <td>0.000243</td>\n",
              "      <td>3.241246e-06</td>\n",
              "      <td>4.556925e-10</td>\n",
              "      <td>2.650358e-05</td>\n",
              "      <td>3.295703e-06</td>\n",
              "      <td>0.000112</td>\n",
              "      <td>2.167009e-08</td>\n",
              "      <td>1.513974e-05</td>\n",
              "      <td>6.507115e-08</td>\n",
              "      <td>8.733975e-07</td>\n",
              "      <td>5.341643e-06</td>\n",
              "      <td>4.341153e-07</td>\n",
              "      <td>5.290732e-06</td>\n",
              "      <td>1.047365e-06</td>\n",
              "      <td>1.160946e-06</td>\n",
              "      <td>3.434186e-06</td>\n",
              "      <td>...</td>\n",
              "      <td>5.438952e-06</td>\n",
              "      <td>1.401887e-06</td>\n",
              "      <td>1.845089e-05</td>\n",
              "      <td>7.961750e-06</td>\n",
              "      <td>1.557580e-06</td>\n",
              "      <td>2.765351e-05</td>\n",
              "      <td>0.000092</td>\n",
              "      <td>7.290747e-05</td>\n",
              "      <td>5.606350e-06</td>\n",
              "      <td>6.291791e-06</td>\n",
              "      <td>4.574113e-05</td>\n",
              "      <td>3.837520e-05</td>\n",
              "      <td>2.511706e-06</td>\n",
              "      <td>2.093228e-06</td>\n",
              "      <td>1.862425e-05</td>\n",
              "      <td>1.743865e-06</td>\n",
              "      <td>3.694930e-05</td>\n",
              "      <td>4.915927e-05</td>\n",
              "      <td>1.097061e-03</td>\n",
              "      <td>2.250581e-07</td>\n",
              "      <td>2.505738e-05</td>\n",
              "      <td>5.970452e-07</td>\n",
              "      <td>4.120377e-07</td>\n",
              "      <td>1.382681e-07</td>\n",
              "      <td>1.790051e-06</td>\n",
              "      <td>2.865190e-07</td>\n",
              "      <td>4.258146e-07</td>\n",
              "      <td>3.496415e-07</td>\n",
              "      <td>2.868650e-06</td>\n",
              "      <td>6.179098e-04</td>\n",
              "      <td>1.223281e-05</td>\n",
              "      <td>3.461168e-07</td>\n",
              "      <td>5.082791e-07</td>\n",
              "      <td>0.000150</td>\n",
              "      <td>5.728064e-06</td>\n",
              "      <td>8.762611e-08</td>\n",
              "      <td>5.822356e-05</td>\n",
              "      <td>0.002554</td>\n",
              "      <td>0.000168</td>\n",
              "      <td>1.0</td>\n",
              "    </tr>\n",
              "    <tr>\n",
              "      <th>28</th>\n",
              "      <td>2.479078e-08</td>\n",
              "      <td>0.000003</td>\n",
              "      <td>5.661215e-09</td>\n",
              "      <td>2.977107e-08</td>\n",
              "      <td>1.185825e-09</td>\n",
              "      <td>1.727938e-08</td>\n",
              "      <td>2.856995e-07</td>\n",
              "      <td>0.000013</td>\n",
              "      <td>2.118010e-08</td>\n",
              "      <td>0.000001</td>\n",
              "      <td>3.835580e-08</td>\n",
              "      <td>6.752188e-08</td>\n",
              "      <td>2.530587e-09</td>\n",
              "      <td>2.306924e-08</td>\n",
              "      <td>7.076283e-09</td>\n",
              "      <td>3.110405e-07</td>\n",
              "      <td>4.983176e-09</td>\n",
              "      <td>0.000010</td>\n",
              "      <td>1.863026e-08</td>\n",
              "      <td>2.446786e-09</td>\n",
              "      <td>6.062073e-08</td>\n",
              "      <td>1.447140e-08</td>\n",
              "      <td>1.685439e-08</td>\n",
              "      <td>1.503592e-07</td>\n",
              "      <td>0.000009</td>\n",
              "      <td>4.500132e-08</td>\n",
              "      <td>5.270628e-12</td>\n",
              "      <td>6.163621e-07</td>\n",
              "      <td>3.933244e-09</td>\n",
              "      <td>0.000001</td>\n",
              "      <td>1.004209e-09</td>\n",
              "      <td>7.240928e-09</td>\n",
              "      <td>2.079663e-09</td>\n",
              "      <td>1.134916e-08</td>\n",
              "      <td>2.955545e-08</td>\n",
              "      <td>7.519109e-10</td>\n",
              "      <td>1.952617e-08</td>\n",
              "      <td>5.574607e-08</td>\n",
              "      <td>2.597049e-09</td>\n",
              "      <td>2.065926e-08</td>\n",
              "      <td>...</td>\n",
              "      <td>2.550333e-07</td>\n",
              "      <td>7.420012e-09</td>\n",
              "      <td>1.723888e-07</td>\n",
              "      <td>2.041391e-07</td>\n",
              "      <td>9.917281e-09</td>\n",
              "      <td>2.704913e-08</td>\n",
              "      <td>0.000037</td>\n",
              "      <td>1.486291e-07</td>\n",
              "      <td>5.170145e-08</td>\n",
              "      <td>3.162640e-07</td>\n",
              "      <td>1.923901e-07</td>\n",
              "      <td>1.830236e-08</td>\n",
              "      <td>3.616335e-09</td>\n",
              "      <td>4.698919e-09</td>\n",
              "      <td>1.032360e-07</td>\n",
              "      <td>4.396121e-08</td>\n",
              "      <td>6.757184e-07</td>\n",
              "      <td>6.361582e-08</td>\n",
              "      <td>3.246636e-06</td>\n",
              "      <td>8.631881e-08</td>\n",
              "      <td>6.564472e-08</td>\n",
              "      <td>5.740285e-09</td>\n",
              "      <td>6.014410e-10</td>\n",
              "      <td>4.601745e-09</td>\n",
              "      <td>5.441897e-09</td>\n",
              "      <td>2.373981e-09</td>\n",
              "      <td>6.358620e-09</td>\n",
              "      <td>1.533278e-09</td>\n",
              "      <td>1.518315e-08</td>\n",
              "      <td>4.764167e-07</td>\n",
              "      <td>9.975562e-07</td>\n",
              "      <td>4.125912e-10</td>\n",
              "      <td>9.145137e-09</td>\n",
              "      <td>0.000023</td>\n",
              "      <td>3.312524e-08</td>\n",
              "      <td>3.376759e-10</td>\n",
              "      <td>1.310727e-07</td>\n",
              "      <td>0.000006</td>\n",
              "      <td>0.000152</td>\n",
              "      <td>1.0</td>\n",
              "    </tr>\n",
              "    <tr>\n",
              "      <th>29</th>\n",
              "      <td>4.336631e-05</td>\n",
              "      <td>0.000738</td>\n",
              "      <td>8.800361e-07</td>\n",
              "      <td>2.173911e-05</td>\n",
              "      <td>1.235447e-07</td>\n",
              "      <td>3.918324e-05</td>\n",
              "      <td>9.845336e-05</td>\n",
              "      <td>0.000106</td>\n",
              "      <td>4.342317e-07</td>\n",
              "      <td>0.000110</td>\n",
              "      <td>7.626104e-06</td>\n",
              "      <td>6.102384e-06</td>\n",
              "      <td>1.683992e-07</td>\n",
              "      <td>6.530394e-07</td>\n",
              "      <td>3.583200e-07</td>\n",
              "      <td>1.266482e-04</td>\n",
              "      <td>2.401349e-07</td>\n",
              "      <td>0.000069</td>\n",
              "      <td>1.741671e-06</td>\n",
              "      <td>4.640044e-07</td>\n",
              "      <td>1.486630e-06</td>\n",
              "      <td>2.156851e-04</td>\n",
              "      <td>4.788606e-06</td>\n",
              "      <td>1.099501e-06</td>\n",
              "      <td>0.000026</td>\n",
              "      <td>3.465360e-05</td>\n",
              "      <td>9.786221e-08</td>\n",
              "      <td>3.207111e-04</td>\n",
              "      <td>1.134025e-06</td>\n",
              "      <td>0.000357</td>\n",
              "      <td>6.457736e-07</td>\n",
              "      <td>4.876940e-07</td>\n",
              "      <td>6.147458e-07</td>\n",
              "      <td>5.117483e-08</td>\n",
              "      <td>3.522188e-07</td>\n",
              "      <td>1.192621e-06</td>\n",
              "      <td>3.584972e-06</td>\n",
              "      <td>3.666709e-06</td>\n",
              "      <td>8.524090e-07</td>\n",
              "      <td>4.759123e-06</td>\n",
              "      <td>...</td>\n",
              "      <td>2.415237e-05</td>\n",
              "      <td>6.735722e-06</td>\n",
              "      <td>3.297732e-05</td>\n",
              "      <td>2.670178e-06</td>\n",
              "      <td>4.917738e-08</td>\n",
              "      <td>1.940992e-07</td>\n",
              "      <td>0.000015</td>\n",
              "      <td>3.113231e-06</td>\n",
              "      <td>4.710503e-07</td>\n",
              "      <td>1.052773e-06</td>\n",
              "      <td>3.485028e-06</td>\n",
              "      <td>4.355118e-06</td>\n",
              "      <td>1.959428e-07</td>\n",
              "      <td>8.190308e-07</td>\n",
              "      <td>4.693320e-07</td>\n",
              "      <td>9.763656e-07</td>\n",
              "      <td>1.687837e-05</td>\n",
              "      <td>6.027627e-06</td>\n",
              "      <td>2.584819e-06</td>\n",
              "      <td>2.278800e-07</td>\n",
              "      <td>8.915293e-06</td>\n",
              "      <td>8.018893e-08</td>\n",
              "      <td>4.997726e-08</td>\n",
              "      <td>1.982604e-08</td>\n",
              "      <td>2.294851e-07</td>\n",
              "      <td>1.708863e-08</td>\n",
              "      <td>5.448780e-08</td>\n",
              "      <td>4.294256e-06</td>\n",
              "      <td>1.854590e-06</td>\n",
              "      <td>5.189818e-05</td>\n",
              "      <td>3.576007e-05</td>\n",
              "      <td>8.637965e-08</td>\n",
              "      <td>2.871902e-06</td>\n",
              "      <td>0.000292</td>\n",
              "      <td>2.552238e-06</td>\n",
              "      <td>1.385187e-08</td>\n",
              "      <td>1.137373e-06</td>\n",
              "      <td>0.000483</td>\n",
              "      <td>0.036073</td>\n",
              "      <td>0.0</td>\n",
              "    </tr>\n",
              "  </tbody>\n",
              "</table>\n",
              "<p>5 rows × 601 columns</p>\n",
              "</div>"
            ],
            "text/plain": [
              "             0         1             2    ...       598       599  600\n",
              "25  7.725971e-05  0.000033  2.595261e-07  ...  0.000213  0.052899  0.0\n",
              "26  1.885309e-04  0.000152  1.378803e-06  ...  0.000329  0.060368  0.0\n",
              "27  6.571332e-07  0.000204  2.257266e-06  ...  0.002554  0.000168  1.0\n",
              "28  2.479078e-08  0.000003  5.661215e-09  ...  0.000006  0.000152  1.0\n",
              "29  4.336631e-05  0.000738  8.800361e-07  ...  0.000483  0.036073  0.0\n",
              "\n",
              "[5 rows x 601 columns]"
            ]
          },
          "metadata": {
            "tags": []
          },
          "execution_count": 96
        }
      ]
    },
    {
      "cell_type": "code",
      "metadata": {
        "id": "HpaNODwt7_Um",
        "outputId": "43237888-b5fb-4358-a510-18777f75435b",
        "colab": {
          "base_uri": "https://localhost:8080/",
          "height": 544
        }
      },
      "source": [
        "target = df.pop(df.columns[-1])\n",
        "target #Target or labels seperation from feature set."
      ],
      "execution_count": 97,
      "outputs": [
        {
          "output_type": "execute_result",
          "data": {
            "text/plain": [
              "0     1.0\n",
              "1     0.0\n",
              "2     1.0\n",
              "3     1.0\n",
              "4     1.0\n",
              "5     0.0\n",
              "6     1.0\n",
              "7     0.0\n",
              "8     0.0\n",
              "9     0.0\n",
              "10    1.0\n",
              "11    0.0\n",
              "12    0.0\n",
              "13    1.0\n",
              "14    0.0\n",
              "15    0.0\n",
              "16    0.0\n",
              "17    0.0\n",
              "18    0.0\n",
              "19    0.0\n",
              "20    0.0\n",
              "21    1.0\n",
              "22    1.0\n",
              "23    1.0\n",
              "24    1.0\n",
              "25    0.0\n",
              "26    0.0\n",
              "27    1.0\n",
              "28    1.0\n",
              "29    0.0\n",
              "Name: 600, dtype: float64"
            ]
          },
          "metadata": {
            "tags": []
          },
          "execution_count": 97
        }
      ]
    },
    {
      "cell_type": "code",
      "metadata": {
        "id": "SgMB5Uyk8pqp"
      },
      "source": [
        "dataset = tf.data.Dataset.from_tensor_slices((df.values, target.values))"
      ],
      "execution_count": 102,
      "outputs": []
    },
    {
      "cell_type": "code",
      "metadata": {
        "id": "wX8VnwG284EQ"
      },
      "source": [
        "train_dataset = dataset.shuffle(len(df)).batch(1)"
      ],
      "execution_count": 103,
      "outputs": []
    },
    {
      "cell_type": "markdown",
      "metadata": {
        "id": "UPyQH1elLKGw"
      },
      "source": [
        "Defining classification model and compling it."
      ]
    },
    {
      "cell_type": "code",
      "metadata": {
        "id": "i_N_BXK79QLp"
      },
      "source": [
        "def get_compiled_model():\n",
        "  model = tf.keras.Sequential([\n",
        "    tf.keras.layers.Dense(700, activation='relu'),\n",
        "    tf.keras.layers.Dropout(0.3),\n",
        "    tf.keras.layers.Dense(500, activation='relu'),\n",
        "    tf.keras.layers.Dropout(0.15),\n",
        "    tf.keras.layers.Dense(350, activation='relu'),\n",
        "    tf.keras.layers.Dropout(0.25),\n",
        "    tf.keras.layers.Dense(100, activation='relu'),\n",
        "    tf.keras.layers.Dense(2, activation='softmax')\n",
        "  ])\n",
        "\n",
        "  model.compile(optimizer='RMSprop',\n",
        "                loss=tf.keras.losses.SparseCategoricalCrossentropy(from_logits=True),\n",
        "                metrics=['accuracy'])\n",
        "  return model"
      ],
      "execution_count": 113,
      "outputs": []
    },
    {
      "cell_type": "code",
      "metadata": {
        "id": "4PStgDl995h5",
        "outputId": "82db5520-04b1-4a80-be80-5c508e1eb62a",
        "colab": {
          "base_uri": "https://localhost:8080/",
          "height": 1000
        }
      },
      "source": [
        "model = get_compiled_model()\n",
        "model.fit(train_dataset, epochs=44)"
      ],
      "execution_count": 114,
      "outputs": [
        {
          "output_type": "stream",
          "text": [
            "Epoch 1/44\n",
            "WARNING:tensorflow:Layer dense_91 is casting an input tensor from dtype float64 to the layer's dtype of float32, which is new behavior in TensorFlow 2.  The layer has dtype float32 because its dtype defaults to floatx.\n",
            "\n",
            "If you intended to run this layer in float32, you can safely ignore this warning. If in doubt, this warning is likely only an issue if you are porting a TensorFlow 1.X model to TensorFlow 2.\n",
            "\n",
            "To change all layers to have dtype float64 by default, call `tf.keras.backend.set_floatx('float64')`. To change just this layer, pass dtype='float64' to the layer constructor. If you are the author of this layer, you can disable autocasting by passing autocast=False to the base Layer constructor.\n",
            "\n"
          ],
          "name": "stdout"
        },
        {
          "output_type": "stream",
          "text": [
            "WARNING:tensorflow:Layer dense_91 is casting an input tensor from dtype float64 to the layer's dtype of float32, which is new behavior in TensorFlow 2.  The layer has dtype float32 because its dtype defaults to floatx.\n",
            "\n",
            "If you intended to run this layer in float32, you can safely ignore this warning. If in doubt, this warning is likely only an issue if you are porting a TensorFlow 1.X model to TensorFlow 2.\n",
            "\n",
            "To change all layers to have dtype float64 by default, call `tf.keras.backend.set_floatx('float64')`. To change just this layer, pass dtype='float64' to the layer constructor. If you are the author of this layer, you can disable autocasting by passing autocast=False to the base Layer constructor.\n",
            "\n"
          ],
          "name": "stderr"
        },
        {
          "output_type": "stream",
          "text": [
            "30/30 [==============================] - 0s 9ms/step - loss: 0.7064 - accuracy: 0.5667\n",
            "Epoch 2/44\n",
            "30/30 [==============================] - 0s 9ms/step - loss: 0.6162 - accuracy: 0.6333\n",
            "Epoch 3/44\n",
            "30/30 [==============================] - 0s 8ms/step - loss: 0.4775 - accuracy: 0.8667\n",
            "Epoch 4/44\n",
            "30/30 [==============================] - 0s 10ms/step - loss: 0.3757 - accuracy: 0.9667\n",
            "Epoch 5/44\n",
            "30/30 [==============================] - 0s 8ms/step - loss: 0.3586 - accuracy: 0.9667\n",
            "Epoch 6/44\n",
            "30/30 [==============================] - 0s 9ms/step - loss: 0.3514 - accuracy: 0.9667\n",
            "Epoch 7/44\n",
            "30/30 [==============================] - 0s 9ms/step - loss: 0.3467 - accuracy: 0.9667\n",
            "Epoch 8/44\n",
            "30/30 [==============================] - 0s 9ms/step - loss: 0.3467 - accuracy: 0.9667\n",
            "Epoch 9/44\n",
            "30/30 [==============================] - 0s 9ms/step - loss: 0.3148 - accuracy: 1.0000\n",
            "Epoch 10/44\n",
            "30/30 [==============================] - 0s 8ms/step - loss: 0.3927 - accuracy: 0.9000\n",
            "Epoch 11/44\n",
            "30/30 [==============================] - 0s 10ms/step - loss: 0.3465 - accuracy: 0.9667\n",
            "Epoch 12/44\n",
            "30/30 [==============================] - 0s 8ms/step - loss: 0.3465 - accuracy: 0.9667\n",
            "Epoch 13/44\n",
            "30/30 [==============================] - 0s 8ms/step - loss: 0.3916 - accuracy: 0.9333\n",
            "Epoch 14/44\n",
            "30/30 [==============================] - 0s 9ms/step - loss: 0.3479 - accuracy: 0.9667\n",
            "Epoch 15/44\n",
            "30/30 [==============================] - 0s 9ms/step - loss: 0.3471 - accuracy: 0.9667\n",
            "Epoch 16/44\n",
            "30/30 [==============================] - 0s 9ms/step - loss: 0.3467 - accuracy: 0.9667\n",
            "Epoch 17/44\n",
            "30/30 [==============================] - 0s 9ms/step - loss: 0.3466 - accuracy: 0.9667\n",
            "Epoch 18/44\n",
            "30/30 [==============================] - 0s 9ms/step - loss: 0.3169 - accuracy: 1.0000\n",
            "Epoch 19/44\n",
            "30/30 [==============================] - 0s 9ms/step - loss: 0.3716 - accuracy: 0.9333\n",
            "Epoch 20/44\n",
            "30/30 [==============================] - 0s 9ms/step - loss: 0.3133 - accuracy: 1.0000\n",
            "Epoch 21/44\n",
            "30/30 [==============================] - 0s 9ms/step - loss: 0.3133 - accuracy: 1.0000\n",
            "Epoch 22/44\n",
            "30/30 [==============================] - 0s 9ms/step - loss: 0.3455 - accuracy: 0.9667\n",
            "Epoch 23/44\n",
            "30/30 [==============================] - 0s 9ms/step - loss: 0.3465 - accuracy: 0.9667\n",
            "Epoch 24/44\n",
            "30/30 [==============================] - 0s 9ms/step - loss: 0.3134 - accuracy: 1.0000\n",
            "Epoch 25/44\n",
            "30/30 [==============================] - 0s 9ms/step - loss: 0.3465 - accuracy: 0.9667\n",
            "Epoch 26/44\n",
            "30/30 [==============================] - 0s 10ms/step - loss: 0.3466 - accuracy: 0.9667\n",
            "Epoch 27/44\n",
            "30/30 [==============================] - 0s 9ms/step - loss: 0.3180 - accuracy: 1.0000\n",
            "Epoch 28/44\n",
            "30/30 [==============================] - 0s 9ms/step - loss: 0.3464 - accuracy: 0.9667\n",
            "Epoch 29/44\n",
            "30/30 [==============================] - 0s 10ms/step - loss: 0.3133 - accuracy: 1.0000\n",
            "Epoch 30/44\n",
            "30/30 [==============================] - 0s 10ms/step - loss: 0.3133 - accuracy: 1.0000\n",
            "Epoch 31/44\n",
            "30/30 [==============================] - 0s 9ms/step - loss: 0.3133 - accuracy: 1.0000\n",
            "Epoch 32/44\n",
            "30/30 [==============================] - 0s 9ms/step - loss: 0.3390 - accuracy: 0.9667\n",
            "Epoch 33/44\n",
            "30/30 [==============================] - 0s 9ms/step - loss: 0.3133 - accuracy: 1.0000\n",
            "Epoch 34/44\n",
            "30/30 [==============================] - 0s 9ms/step - loss: 0.3134 - accuracy: 1.0000\n",
            "Epoch 35/44\n",
            "30/30 [==============================] - 0s 9ms/step - loss: 0.3133 - accuracy: 1.0000\n",
            "Epoch 36/44\n",
            "30/30 [==============================] - 0s 9ms/step - loss: 0.3133 - accuracy: 1.0000\n",
            "Epoch 37/44\n",
            "30/30 [==============================] - 0s 9ms/step - loss: 0.3133 - accuracy: 1.0000\n",
            "Epoch 38/44\n",
            "30/30 [==============================] - 0s 9ms/step - loss: 0.3468 - accuracy: 0.9667\n",
            "Epoch 39/44\n",
            "30/30 [==============================] - 0s 10ms/step - loss: 0.3133 - accuracy: 1.0000\n",
            "Epoch 40/44\n",
            "30/30 [==============================] - 0s 9ms/step - loss: 0.3133 - accuracy: 1.0000\n",
            "Epoch 41/44\n",
            "30/30 [==============================] - 0s 8ms/step - loss: 0.3133 - accuracy: 1.0000\n",
            "Epoch 42/44\n",
            "30/30 [==============================] - 0s 11ms/step - loss: 0.3806 - accuracy: 0.9333\n",
            "Epoch 43/44\n",
            "30/30 [==============================] - 0s 9ms/step - loss: 0.3133 - accuracy: 1.0000\n",
            "Epoch 44/44\n",
            "30/30 [==============================] - 0s 9ms/step - loss: 0.3133 - accuracy: 1.0000\n"
          ],
          "name": "stdout"
        },
        {
          "output_type": "execute_result",
          "data": {
            "text/plain": [
              "<tensorflow.python.keras.callbacks.History at 0x7f3f05c5cda0>"
            ]
          },
          "metadata": {
            "tags": []
          },
          "execution_count": 114
        }
      ]
    },
    {
      "cell_type": "markdown",
      "metadata": {
        "id": "-P3i-wuMLiLp"
      },
      "source": [
        "Testing out the classifier with kho kho and khabaddi test videos "
      ]
    },
    {
      "cell_type": "code",
      "metadata": {
        "id": "uQtwo4GlAIv6"
      },
      "source": [
        "sample = load_video(\"/content/kk-t.mp4\") #Loading test video of kho kho to test the model"
      ],
      "execution_count": 115,
      "outputs": []
    },
    {
      "cell_type": "code",
      "metadata": {
        "id": "y8zzKGkXAeg4"
      },
      "source": [
        "sam = predict(sample)"
      ],
      "execution_count": 41,
      "outputs": []
    },
    {
      "cell_type": "code",
      "metadata": {
        "id": "EsLgaFPCBqEH"
      },
      "source": [
        "sam"
      ],
      "execution_count": null,
      "outputs": []
    },
    {
      "cell_type": "markdown",
      "metadata": {
        "id": "zQEaK2FqLwRL"
      },
      "source": [
        "Adding batch dimenssion to the input for the classifier model."
      ]
    },
    {
      "cell_type": "code",
      "metadata": {
        "id": "_uMnRgXn-jEd"
      },
      "source": [
        "model_input = tf.constant(sam, dtype=tf.float32)[tf.newaxis,...]"
      ],
      "execution_count": 55,
      "outputs": []
    },
    {
      "cell_type": "code",
      "metadata": {
        "id": "Gn6BgIxFBQf0"
      },
      "source": [
        "prediction = model(model_input)"
      ],
      "execution_count": 116,
      "outputs": []
    },
    {
      "cell_type": "markdown",
      "metadata": {
        "id": "Z60LYDYlMEVd"
      },
      "source": [
        "Model correclty classified video to be belonging to kho kho video as it gave output of 1-category being highest probability."
      ]
    },
    {
      "cell_type": "code",
      "metadata": {
        "id": "2mrvWgC0Bvwm",
        "outputId": "98f48ecf-4153-429f-85d4-6aa17eb37f67",
        "colab": {
          "base_uri": "https://localhost:8080/",
          "height": 34
        }
      },
      "source": [
        "prediction"
      ],
      "execution_count": 117,
      "outputs": [
        {
          "output_type": "execute_result",
          "data": {
            "text/plain": [
              "<tf.Tensor: shape=(1, 2), dtype=float32, numpy=array([[3.1358738e-08, 1.0000000e+00]], dtype=float32)>"
            ]
          },
          "metadata": {
            "tags": []
          },
          "execution_count": 117
        }
      ]
    },
    {
      "cell_type": "code",
      "metadata": {
        "id": "zgHmLrtlWjTz"
      },
      "source": [
        "sample1 = load_video(\"/content/Untitled.mp4\") #Loading test video of khabaddi video to test the model"
      ],
      "execution_count": 120,
      "outputs": []
    },
    {
      "cell_type": "code",
      "metadata": {
        "id": "yjva3A5sDnMo"
      },
      "source": [
        "sam1=predict(sample1)"
      ],
      "execution_count": 121,
      "outputs": []
    },
    {
      "cell_type": "code",
      "metadata": {
        "id": "QMEeuoNVEFEA"
      },
      "source": [
        "model_input1 = tf.constant(sam1, dtype=tf.float32)[tf.newaxis, ...]"
      ],
      "execution_count": 122,
      "outputs": []
    },
    {
      "cell_type": "code",
      "metadata": {
        "id": "JWOHS-v_EP8b"
      },
      "source": [
        "prediction1 = model(model_input1)"
      ],
      "execution_count": 123,
      "outputs": []
    },
    {
      "cell_type": "markdown",
      "metadata": {
        "id": "_2yW4wBIMj3W"
      },
      "source": [
        "Model correclty classified video to be beloging to kho kho video as it gave output of 0-category being highest probability."
      ]
    },
    {
      "cell_type": "code",
      "metadata": {
        "id": "RcnWXZHvEVrh",
        "outputId": "757491c0-4633-4b8a-fe69-12c9c55cd26a",
        "colab": {
          "base_uri": "https://localhost:8080/",
          "height": 34
        }
      },
      "source": [
        "prediction1"
      ],
      "execution_count": 124,
      "outputs": [
        {
          "output_type": "execute_result",
          "data": {
            "text/plain": [
              "<tf.Tensor: shape=(1, 2), dtype=float32, numpy=array([[1.0000000e+00, 1.4039028e-23]], dtype=float32)>"
            ]
          },
          "metadata": {
            "tags": []
          },
          "execution_count": 124
        }
      ]
    },
    {
      "cell_type": "code",
      "metadata": {
        "id": "Ph3htFlYEXTm",
        "outputId": "2e7e5dcd-75c2-436c-a62e-dbd16b5523be",
        "colab": {
          "base_uri": "https://localhost:8080/",
          "height": 275
        }
      },
      "source": [
        "model.save(\"/content\")"
      ],
      "execution_count": 126,
      "outputs": [
        {
          "output_type": "stream",
          "text": [
            "WARNING:tensorflow:From /usr/local/lib/python3.6/dist-packages/tensorflow/python/training/tracking/tracking.py:111: Model.state_updates (from tensorflow.python.keras.engine.training) is deprecated and will be removed in a future version.\n",
            "Instructions for updating:\n",
            "This property should not be used in TensorFlow 2.0, as updates are applied automatically.\n"
          ],
          "name": "stdout"
        },
        {
          "output_type": "stream",
          "text": [
            "WARNING:tensorflow:From /usr/local/lib/python3.6/dist-packages/tensorflow/python/training/tracking/tracking.py:111: Model.state_updates (from tensorflow.python.keras.engine.training) is deprecated and will be removed in a future version.\n",
            "Instructions for updating:\n",
            "This property should not be used in TensorFlow 2.0, as updates are applied automatically.\n"
          ],
          "name": "stderr"
        },
        {
          "output_type": "stream",
          "text": [
            "WARNING:tensorflow:From /usr/local/lib/python3.6/dist-packages/tensorflow/python/training/tracking/tracking.py:111: Layer.updates (from tensorflow.python.keras.engine.base_layer) is deprecated and will be removed in a future version.\n",
            "Instructions for updating:\n",
            "This property should not be used in TensorFlow 2.0, as updates are applied automatically.\n"
          ],
          "name": "stdout"
        },
        {
          "output_type": "stream",
          "text": [
            "WARNING:tensorflow:From /usr/local/lib/python3.6/dist-packages/tensorflow/python/training/tracking/tracking.py:111: Layer.updates (from tensorflow.python.keras.engine.base_layer) is deprecated and will be removed in a future version.\n",
            "Instructions for updating:\n",
            "This property should not be used in TensorFlow 2.0, as updates are applied automatically.\n"
          ],
          "name": "stderr"
        },
        {
          "output_type": "stream",
          "text": [
            "INFO:tensorflow:Assets written to: /content/assets\n"
          ],
          "name": "stdout"
        },
        {
          "output_type": "stream",
          "text": [
            "INFO:tensorflow:Assets written to: /content/assets\n"
          ],
          "name": "stderr"
        }
      ]
    },
    {
      "cell_type": "code",
      "metadata": {
        "id": "93jgcoolJYyp"
      },
      "source": [
        ""
      ],
      "execution_count": null,
      "outputs": []
    }
  ]
}